{
  "nbformat": 4,
  "nbformat_minor": 0,
  "metadata": {
    "colab": {
      "provenance": []
    },
    "kernelspec": {
      "name": "python3",
      "display_name": "Python 3"
    },
    "language_info": {
      "name": "python"
    }
  },
  "cells": [
    {
      "cell_type": "markdown",
      "source": [
        "##BACKTRACKING\n",
        "Pon a prueba tu calculo mental. Todas las sumas en vertical y horizontal deben dar el mismo resultado.\n"
      ],
      "metadata": {
        "id": "cFoQQX0Hx-dQ"
      }
    },
    {
      "cell_type": "code",
      "source": [
        "def is_valid(matrix, objetivo = 16):\n",
        "    for i in range(3):\n",
        "        row_sum = sum(matrix[i])\n",
        "        col_sum = sum(matrix[j][i] for j in range(3))\n",
        "        if row_sum != objetivo or col_sum != objetivo:\n",
        "            return False\n",
        "    return True\n",
        "\n",
        "def backtrack(matrix, row, col):\n",
        "    if row == 3:\n",
        "        return is_valid(matrix)\n",
        "    next_row = row + 1 if col == 2 else row\n",
        "    next_col = (col + 1) % 3\n",
        "\n",
        "    if matrix[row][col] != 0:\n",
        "        return backtrack(matrix, next_row, next_col)\n",
        "\n",
        "    for num in range(1, 10):\n",
        "        matrix[row][col] = num\n",
        "        if backtrack(matrix, next_row, next_col):\n",
        "            return True\n",
        "        matrix[row][col] = 0\n",
        "\n",
        "    return False\n",
        "\n",
        "def print_matrix(matrix):\n",
        "    for row in matrix:\n",
        "        print(row)\n",
        "\n",
        "def solve_puzzle():\n",
        "    # Resuelve el puzzle con los números dados\n",
        "    sudoku = [\n",
        "        [0, 0, 0],\n",
        "        [0, 5, 0],\n",
        "        [0, 2, 0]\n",
        "    ]\n",
        "\n",
        "    if backtrack(sudoku, 0, 0):\n",
        "        print(\"Solución encontrada:\")\n",
        "        print_matrix(sudoku)\n",
        "    else:\n",
        "        print(\"No se encontró solución\")\n",
        "\n",
        "# Llamar a la función para resolver el puzzle\n",
        "solve_puzzle()"
      ],
      "metadata": {
        "colab": {
          "base_uri": "https://localhost:8080/"
        },
        "id": "6qQ1Nfhv0fBO",
        "outputId": "816d6a25-7c59-4791-b919-4954885ae52c"
      },
      "execution_count": 32,
      "outputs": [
        {
          "output_type": "stream",
          "name": "stdout",
          "text": [
            "Solución encontrada:\n",
            "[1, 9, 6]\n",
            "[6, 5, 5]\n",
            "[9, 2, 5]\n"
          ]
        }
      ]
    }
  ]
}