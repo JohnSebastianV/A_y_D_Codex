{
  "nbformat": 4,
  "nbformat_minor": 0,
  "metadata": {
    "colab": {
      "provenance": []
    },
    "kernelspec": {
      "name": "python3",
      "display_name": "Python 3"
    },
    "language_info": {
      "name": "python"
    }
  },
  "cells": [
    {
      "cell_type": "code",
      "execution_count": 39,
      "metadata": {
        "colab": {
          "base_uri": "https://localhost:8080/"
        },
        "id": "-i2OG6Wesja7",
        "outputId": "11fadce6-3b06-43b3-9715-06bff930e39b"
      },
      "outputs": [
        {
          "output_type": "stream",
          "name": "stdout",
          "text": [
            "[(1, 2), (4, 3), (7, 6), (8, 5)]\n"
          ]
        }
      ],
      "source": [
        "def emparejar_elementos(A, B):\n",
        "    A.sort()\n",
        "    B.sort()\n",
        "    parejas = []\n",
        "\n",
        "    for i in range(len(A)):\n",
        "        minima_diferencia = float('inf')\n",
        "        mejor_pareja = None\n",
        "        for j in range(len(B)):\n",
        "            diferencia = abs(A[i] - B[j])\n",
        "            if diferencia < minima_diferencia:\n",
        "                minima_diferencia = diferencia\n",
        "                mejor_pareja = j\n",
        "        parejas.append((A[i], B[mejor_pareja]))\n",
        "        del B[mejor_pareja]\n",
        "\n",
        "    return parejas\n",
        "\n",
        "# Ejemplo de uso\n",
        "A = [4, 1, 8, 7]\n",
        "B = [2, 3, 6, 5]\n",
        "resultado = emparejar_elementos(A, B)\n",
        "print(resultado)\n",
        "\n",
        "\n"
      ]
    }
  ]
}