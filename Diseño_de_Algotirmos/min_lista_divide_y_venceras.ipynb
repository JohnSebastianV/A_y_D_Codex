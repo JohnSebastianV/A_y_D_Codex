{
  "nbformat": 4,
  "nbformat_minor": 0,
  "metadata": {
    "colab": {
      "provenance": []
    },
    "kernelspec": {
      "name": "python3",
      "display_name": "Python 3"
    },
    "language_info": {
      "name": "python"
    }
  },
  "cells": [
    {
      "cell_type": "code",
      "execution_count": 15,
      "metadata": {
        "colab": {
          "base_uri": "https://localhost:8080/"
        },
        "id": "Ak-2U809sS0i",
        "outputId": "687a515e-529c-4694-dff4-e67cd0ca971a"
      },
      "outputs": [
        {
          "output_type": "stream",
          "name": "stdout",
          "text": [
            "El mínimo de la lista es: -77\n"
          ]
        }
      ],
      "source": [
        "def min_lista(arr):\n",
        "  try:\n",
        "    if len(arr) == 1:\n",
        "      return arr[0]\n",
        "\n",
        "    mitad = len(arr) // 2\n",
        "    derecha_lista = min_lista(arr[:mitad])\n",
        "    izquierda_lista = min_lista(arr[mitad:])\n",
        "\n",
        "    return min(derecha_lista , izquierda_lista)\n",
        "  except TypeError:\n",
        "    return \"la lista no debe tener letras\"\n",
        "\n",
        "lista = [-77, 7, 0, 100, 49, 8]\n",
        "\n",
        "\n",
        "minimo = min_lista(lista)\n",
        "print(\"El mínimo de la lista es:\", minimo)"
      ]
    }
  ]
}