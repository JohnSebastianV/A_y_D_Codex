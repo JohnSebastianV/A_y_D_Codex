{
  "nbformat": 4,
  "nbformat_minor": 0,
  "metadata": {
    "colab": {
      "provenance": []
    },
    "kernelspec": {
      "name": "python3",
      "display_name": "Python 3"
    },
    "language_info": {
      "name": "python"
    }
  },
  "cells": [
    {
      "cell_type": "code",
      "execution_count": 9,
      "metadata": {
        "colab": {
          "base_uri": "https://localhost:8080/"
        },
        "id": "GmWiB_zOx-XA",
        "outputId": "3c49e93e-e421-4cd2-c798-49c6d5975e67"
      },
      "outputs": [
        {
          "output_type": "stream",
          "name": "stdout",
          "text": [
            "None\n"
          ]
        }
      ],
      "source": [
        "def factorial (n,memo= None):\n",
        "  if memo is None:\n",
        "    memo ={}\n",
        "  if n == 0 or n ==1:\n",
        "    return 1\n",
        "  if n in memo:\n",
        "    return memo (n)\n",
        "    memo [n]= n * factorial (n-1, memo)\n",
        "    return nemo[n]\n",
        "n= 3\n",
        "print (factorial(n))\n",
        "\n",
        "\n",
        "\n",
        "\n",
        "\n"
      ]
    }
  ]
}