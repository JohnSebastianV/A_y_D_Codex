{
  "nbformat": 4,
  "nbformat_minor": 0,
  "metadata": {
    "colab": {
      "provenance": []
    },
    "kernelspec": {
      "name": "python3",
      "display_name": "Python 3"
    },
    "language_info": {
      "name": "python"
    }
  },
  "cells": [
    {
      "cell_type": "code",
      "execution_count": 21,
      "metadata": {
        "colab": {
          "base_uri": "https://localhost:8080/"
        },
        "id": "PrBdP1oQrWSi",
        "outputId": "5ffddee5-e63c-47b7-8f7b-c90e54c3cbcd"
      },
      "outputs": [
        {
          "output_type": "stream",
          "name": "stdout",
          "text": [
            "Suma del camino óptimo: 51\n"
          ]
        }
      ],
      "source": [
        "def tortuga(matriz, x, y):\n",
        "  try:\n",
        "    n = len(matriz)\n",
        "    if x == n - 1 and y == n - 1:\n",
        "        return matriz[x][y]\n",
        "    adyacentes = []\n",
        "    if x + 1 < n:\n",
        "        adyacentes.append((x + 1, y))\n",
        "    if y + 1 < n:\n",
        "        adyacentes.append((x, y + 1))\n",
        "\n",
        "    max_valor = float('-inf')\n",
        "    for pos in adyacentes:\n",
        "        if matriz[pos[0]][pos[1]] > max_valor:\n",
        "            max_valor = matriz[pos[0]][pos[1]]\n",
        "            siguiente = pos\n",
        "\n",
        "    return matriz[x][y] + tortuga(matriz, siguiente[0], siguiente[1])\n",
        "  except TypeError:\n",
        "    return \"la matriz no debe tener letras\"\n",
        "\n",
        "matriz_ejemplo = [\n",
        "    [1, 3, 5],\n",
        "    [10, 24, 7],\n",
        "    [8, 3, 9]\n",
        "]\n",
        "\n",
        "suma = tortuga(matriz_ejemplo, 0, 0)\n",
        "print(\"Suma del camino óptimo:\", suma)"
      ]
    }
  ]
}