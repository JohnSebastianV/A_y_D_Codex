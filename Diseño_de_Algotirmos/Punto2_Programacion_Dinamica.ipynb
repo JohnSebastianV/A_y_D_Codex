{
  "nbformat": 4,
  "nbformat_minor": 0,
  "metadata": {
    "colab": {
      "provenance": []
    },
    "kernelspec": {
      "name": "python3",
      "display_name": "Python 3"
    },
    "language_info": {
      "name": "python"
    }
  },
  "cells": [
    {
      "cell_type": "code",
      "execution_count": 24,
      "metadata": {
        "colab": {
          "base_uri": "https://localhost:8080/"
        },
        "id": "GmGrGqU7v44O",
        "outputId": "ee594a1c-6cbd-47a8-ef5f-e84cef727e49"
      },
      "outputs": [
        {
          "output_type": "stream",
          "name": "stdout",
          "text": [
            "4\n"
          ]
        }
      ],
      "source": [
        "def MaximumPath(N, Matrix):\n",
        "\n",
        "    if N <= 10:\n",
        "        dp = [[0] * N for _ in range(N)]\n",
        "\n",
        "\n",
        "        for j in range(N):\n",
        "          dp[0][j] = Matrix[0][j]\n",
        "\n",
        "\n",
        "        for i in range(1, N):\n",
        "          for j in range(N):\n",
        "\n",
        "            current_value = Matrix[i][j]\n",
        "\n",
        "\n",
        "            max_previous = dp[i-1][j]\n",
        "\n",
        "            if j > 0:\n",
        "                max_previous = max(max_previous, dp[i-1][j-1])\n",
        "            if j < N - 1:\n",
        "                max_previous = max(max_previous, dp[i-1][j+1])\n",
        "\n",
        "\n",
        "            dp[i][j] = current_value + max_previous\n",
        "\n",
        "\n",
        "        return max(dp[N-1])\n",
        "    else:\n",
        "      print(\"El tamaño de la matriz no debe ser mayor a 10 y N debe igual al tamaño de la matriz\")\n",
        "\n",
        "\n",
        "\n",
        "N = 2\n",
        "Matrix = [[2, 2], [2, 2]]\n",
        "print(MaximumPath(N, Matrix))\n"
      ]
    }
  ]
}