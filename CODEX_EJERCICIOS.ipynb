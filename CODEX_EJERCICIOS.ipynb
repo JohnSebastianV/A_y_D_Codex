{
  "nbformat": 4,
  "nbformat_minor": 0,
  "metadata": {
    "colab": {
      "provenance": [],
      "include_colab_link": true
    },
    "kernelspec": {
      "name": "python3",
      "display_name": "Python 3"
    },
    "language_info": {
      "name": "python"
    }
  },
  "cells": [
    {
      "cell_type": "markdown",
      "metadata": {
        "id": "view-in-github",
        "colab_type": "text"
      },
      "source": [
        "<a href=\"https://colab.research.google.com/github/JohnSebastianV/A_y_D_Codex/blob/main/CODEX_EJERCICIOS.ipynb\" target=\"_parent\"><img src=\"https://colab.research.google.com/assets/colab-badge.svg\" alt=\"Open In Colab\"/></a>"
      ]
    },
    {
      "cell_type": "markdown",
      "source": [
        "##Ejercicio recorrer matriz en forma de caracol (No recursivo)"
      ],
      "metadata": {
        "id": "FVTum_4HXVHX"
      }
    },
    {
      "cell_type": "code",
      "source": [
        "def recorrer_caracol(matriz):\n",
        "    if not matriz:  # Complejidad: O(1)\n",
        "        return []   # Complejidad: O(1)\n",
        "\n",
        "    resultado = []  # Complejidad: O(1)\n",
        "    m = len(matriz)  # Complejidad: O(1)\n",
        "    n = len(matriz[0])  # Complejidad: O(1)\n",
        "    fila_inicio = 0  # Complejidad: O(1)\n",
        "    fila_fin = m - 1  # Complejidad: O(1)\n",
        "    columna_inicio = 0  # Complejidad: O(1)\n",
        "    columna_fin = n - 1  # Complejidad: O(1)\n",
        "\n",
        "    while fila_inicio <= fila_fin and columna_inicio <= columna_fin:  # Complejidad: O(m + n)\n",
        "        for i in range(fila_inicio, fila_fin + 1):  # Complejidad: O(m)\n",
        "            resultado.append(matriz[i][columna_inicio])  # Complejidad: O(1)\n",
        "        columna_inicio += 1  # Complejidad: O(1)\n",
        "\n",
        "        for j in range(columna_inicio, columna_fin + 1):  # Complejidad: O(n)\n",
        "            resultado.append(matriz[fila_fin][j])  # Complejidad: O(1)\n",
        "        fila_fin -= 1  # Complejidad: O(1)\n",
        "\n",
        "        if columna_inicio <= columna_fin:  # Complejidad: O(1)\n",
        "            for i in range(fila_fin, fila_inicio - 1, -1):  # Complejidad: O(m)\n",
        "                resultado.append(matriz[i][columna_fin])  # Complejidad: O(1)\n",
        "            columna_fin -= 1  # Complejidad: O(1)\n",
        "\n",
        "        if fila_inicio <= fila_fin:  # Complejidad: O(1)\n",
        "            for j in range(columna_fin, columna_inicio - 1, -1):  # Complejidad: O(n)\n",
        "                resultado.append(matriz[fila_inicio][j])  # Complejidad: O(1)\n",
        "            fila_inicio += 1  # Complejidad: O(1)\n",
        "\n",
        "    return resultado  # Complejidad: O(1)\n",
        "\n",
        "matriz_ejemplo = [  # Complejidad: O(1)\n",
        "    [1, 2, 3],  # Complejidad: O(1)\n",
        "    [4, 5, 6],  # Complejidad: O(1)\n",
        "    [7, 8, 9]   # Complejidad: O(1)\n",
        "]\n",
        "\n",
        "resultado_caracol = recorrer_caracol(matriz_ejemplo)  # Complejidad: O(m * n)\n",
        "print(resultado_caracol)  # Complejidad: O(1)\n"
      ],
      "metadata": {
        "colab": {
          "base_uri": "https://localhost:8080/"
        },
        "id": "BP0kgXA_Tkj2",
        "outputId": "3434d69c-eed8-46e1-b5eb-c9c08c7163db"
      },
      "execution_count": null,
      "outputs": [
        {
          "output_type": "stream",
          "name": "stdout",
          "text": [
            "[1, 4, 7, 8, 9, 6, 3, 2, 5]\n"
          ]
        }
      ]
    },
    {
      "cell_type": "markdown",
      "source": [
        "##Ejercicio suma de digitos sin recursion"
      ],
      "metadata": {
        "id": "nHz8DuKLX8rW"
      }
    },
    {
      "cell_type": "code",
      "source": [
        "def sumar_digitos(numero):  # Complejidad temporal: O(n), Complejidad espacial: O(1)\n",
        "    numero = abs(numero)  # Operación constante, O(1)\n",
        "    suma = 0  # Operación constante, O(1)\n",
        "    while numero != 0:  # Iteración sobre los dígitos, O(n)\n",
        "        suma += numero % 10  # Operación constante, O(1)\n",
        "        numero //= 10  # Operación constante, O(1)\n",
        "    return suma  # Operación constante, O(1)\n",
        "\n",
        "numero = 12345  # Operación constante, O(1)\n",
        "print(\"La suma de los dígitos de\", numero, \"es:\", sumar_digitos(numero))  # Operación constante, O(1)"
      ],
      "metadata": {
        "colab": {
          "base_uri": "https://localhost:8080/"
        },
        "id": "h85K75O7YIzG",
        "outputId": "48b73d0d-824d-418a-c274-ce77e17d4d15"
      },
      "execution_count": null,
      "outputs": [
        {
          "output_type": "stream",
          "name": "stdout",
          "text": [
            "La suma de los dígitos de 12345 es: 15\n"
          ]
        }
      ]
    },
    {
      "cell_type": "markdown",
      "source": [
        "##Ejercicio suma de digitos recursiva"
      ],
      "metadata": {
        "id": "HomyIVbLY1uk"
      }
    },
    {
      "cell_type": "code",
      "source": [
        "def suma_digitos_recursiva(numero):\n",
        "    if numero == 0:\n",
        "        return 0\n",
        "    else:\n",
        "        return numero % 10 + suma_digitos_recursiva(numero // 10)\n",
        "\n",
        "num = 12345\n",
        "resultado = suma_digitos_recursiva(num)\n",
        "print(f\"La suma de los dígitos de {num} es: {resultado}\")"
      ],
      "metadata": {
        "colab": {
          "base_uri": "https://localhost:8080/"
        },
        "id": "ymJPTTSOY-i3",
        "outputId": "7a2288a6-9d56-4df4-f8d4-7ef4445aade3"
      },
      "execution_count": null,
      "outputs": [
        {
          "output_type": "stream",
          "name": "stdout",
          "text": [
            "La suma de los dígitos de 12345 es: 15\n"
          ]
        }
      ]
    },
    {
      "cell_type": "markdown",
      "source": [
        "##Ejercicio suma de array recursiva"
      ],
      "metadata": {
        "id": "94F2AitiZF8T"
      }
    },
    {
      "cell_type": "code",
      "source": [
        "def suma_array_recursiva(array):\n",
        "    if len(array) == 0:\n",
        "        return 0\n",
        "    else:\n",
        "        return array[0] + suma_array_recursiva(array[1:])\n",
        "\n",
        "mi_array = [1, 2, 3, 4, 5]\n",
        "resultado = suma_array_recursiva(mi_array)\n",
        "print(f\"La suma de todos los elementos del array es: {resultado}\")"
      ],
      "metadata": {
        "colab": {
          "base_uri": "https://localhost:8080/"
        },
        "id": "GruLQGkyZJ1z",
        "outputId": "e09be525-eabc-42e8-a4d4-0c19f6eef5a9"
      },
      "execution_count": null,
      "outputs": [
        {
          "output_type": "stream",
          "name": "stdout",
          "text": [
            "La suma de todos los elementos del array es: 15\n"
          ]
        }
      ]
    }
  ]
}