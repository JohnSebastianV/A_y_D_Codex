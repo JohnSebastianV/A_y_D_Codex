{
  "nbformat": 4,
  "nbformat_minor": 0,
  "metadata": {
    "colab": {
      "provenance": []
    },
    "kernelspec": {
      "name": "python3",
      "display_name": "Python 3"
    },
    "language_info": {
      "name": "python"
    }
  },
  "cells": [
    {
      "cell_type": "code",
      "execution_count": 1,
      "metadata": {
        "id": "VTZpcWEIANsE"
      },
      "outputs": [],
      "source": [
        "class Operaciones:\n",
        "    @staticmethod\n",
        "    def factorial(n):\n",
        "      if n == 0 or n == 1:\n",
        "          return 1\n",
        "      else:\n",
        "          resultado = 1\n",
        "          for i in range(2, n + 1):\n",
        "              resultado *= i\n",
        "          return resultado"
      ]
    },
    {
      "cell_type": "code",
      "source": [
        "class PrinDeCont: #O(n)\n",
        "    @staticmethod\n",
        "    def permutaciones(n, r):  # O(n)\n",
        "        print(\"Para tu ejercicio necesitas una permutacion\") # 0(1)\n",
        "        pregunta = input(\"Se repite (si/no): \") #O(1)\n",
        "        if pregunta.lower() == \"si\":\n",
        "          return Operaciones.factorial(n) // Operaciones.factorial(n-r)  # O(n)\n",
        "        elif pregunta.lower() == \"no\":\n",
        "          return Operaciones.factorial(n) # O(n)\n",
        "        else:\n",
        "          print(\"opcion no valida\") #O(1)\n",
        "          PrinDeCont.permutaciones(n,r) # O(n)\n",
        "\n",
        "\n",
        "    @staticmethod\n",
        "    def combinaciones(n, r):  # O(n)\n",
        "        print(\"Para tu ejercicio necesitas una combinacion\") #O(1)\n",
        "        pregunta = input(\"Se repite (si/no): \") #O(1)\n",
        "        if pregunta.lower() == \"si\":\n",
        "          return Operaciones.factorial(n+r-1) // (Operaciones.factorial(r) * Operaciones.factorial(n-1)) #O(n)\n",
        "        elif pregunta.lower() == \"no\":\n",
        "          return Operaciones.factorial(n) // (Operaciones.factorial(r) * Operaciones.factorial(n-r))  # O(n)\n",
        "        else:\n",
        "          print(\"opcion no valida\") #O(1)\n",
        "          PrinDeCont.combinaciones(n,r) #O(n)\n",
        "\n",
        "    @staticmethod\n",
        "    def variaciones(n, r): #O(n)\n",
        "      print(\"Para tu ejercicio necesitas una variacion\") #O(1)\n",
        "      pregunta = input(\"Se repite (si/no): \") #O(1)\n",
        "      if pregunta.lower() == \"si\":\n",
        "          return n**r #O(1)\n",
        "      elif pregunta.lower() == \"no\":\n",
        "        return Operaciones.factorial(n) // Operaciones.factorial(n-r) #O(n)\n",
        "      else:\n",
        "          print(\"opcion no valida\") #O(1)\n",
        "          PrinDeCont.variaciones(n,r) #O(n)"
      ],
      "metadata": {
        "id": "zuF_ISp3B0qa"
      },
      "execution_count": 2,
      "outputs": []
    },
    {
      "cell_type": "code",
      "source": [
        "class Main:\n",
        "    @staticmethod\n",
        "    def main():\n",
        "\n",
        "        while True:\n",
        "\n",
        "\n",
        "            n = input(\"Por favor, ingresa el valor de 'n': \")\n",
        "\n",
        "            if n.isdigit():\n",
        "              n_valor= int(n)\n",
        "            else:\n",
        "              print(\"Lo que ingresaste debe ser un numero entero, vuelve a intentarlo desde el principio\\n\")\n",
        "              Main.main()\n",
        "\n",
        "\n",
        "            r = input(\"Por favor, ingresa el valor de 'r': \")\n",
        "\n",
        "            if r.isdigit():\n",
        "              r_valor= int(r)\n",
        "            else:\n",
        "              print(\"Lo que ingresaste debe ser un numero entero, vuelve a intentarlo desde el principio\\n\")\n",
        "              Main.main()\n",
        "\n",
        "            respuesta_orden = input(\"¿El orden importa para tu ejercicio? (sí/no): \")\n",
        "            respuesta_elementos = input(\"¿Todos los elementos son considerados para tu ejercicio? (sí/no): \")\n",
        "\n",
        "            if respuesta_orden.lower() == \"si\" and respuesta_elementos.lower() == \"si\":\n",
        "                print(f\"\\nEl resultado de las permutaciones es: {PrinDeCont.permutaciones(n_valor, r_valor)}\\n\")\n",
        "            elif respuesta_orden.lower() == \"si\" and respuesta_elementos.lower() == \"no\":\n",
        "                print(f\"\\nEl resultado de las variaciones es: {PrinDeCont.variaciones(n_valor, r_valor)}\\n\")\n",
        "            elif respuesta_orden.lower() == \"no\" and respuesta_elementos.lower() == \"no\":\n",
        "                print(f\"\\nEl resultado de las combinaciones es: {PrinDeCont.combinaciones(n_valor, r_valor)}\\n\")\n",
        "            else:\n",
        "                print(\"\\nLo que ingresaste no es válido. Por favor, asegúrate de responder 'sí' o 'no' a las preguntas.\\n\")\n",
        "\n",
        "            Resp = input(\"¿Deseas realizar otra operación? (sí/no): \")\n",
        "            if Resp.lower() == \"si\":\n",
        "                print(\"\\n¡Entendido, continuemos!\\n\")\n",
        "            else:\n",
        "                print(\"\\nGracias por usar el Programa de Principios de Conteo de Codex. ¡Hasta luego!\\n\")\n",
        "                break\n",
        "\n"
      ],
      "metadata": {
        "id": "FordEo0OQTeL"
      },
      "execution_count": 5,
      "outputs": []
    },
    {
      "cell_type": "code",
      "source": [
        "mensaje = \"\"\"\n",
        "---------------------------------------------------\n",
        "|              ¡Bienvenido al Programa de          |\n",
        "|          Principios de Conteo de Codex!          |\n",
        "|                                                  |\n",
        "| Los principios de conteo son técnicas en         |\n",
        "| combinatoria para calcular el número de          |\n",
        "| posibles resultados en un experimento o          |\n",
        "| situación.                                       |\n",
        "|                                                  |\n",
        "| El principio fundamental del conteo establece    |\n",
        "| que si una acción se puede realizar de 'n'       |\n",
        "| maneras diferentes y otra de 'r', entonces hay   |\n",
        "| 'n * r' maneras diferentes de realizar ambas     |\n",
        "| acciones.                                        |\n",
        "|                                                  |\n",
        "| Existen dos enfoques principales para el         |\n",
        "| conteo: permutaciones y combinaciones. Las       |\n",
        "| permutaciones consideran el orden en el que se   |\n",
        "| eligen los elementos, mientras que las           |\n",
        "| combinaciones no consideran el orden.            |\n",
        "|                                                  |\n",
        "---------------------------------------------------\n",
        "\"\"\"\n",
        "print(mensaje)\n",
        "if __name__ == \"__main__\":\n",
        "    Main.main()"
      ],
      "metadata": {
        "colab": {
          "base_uri": "https://localhost:8080/"
        },
        "id": "lnB9bd20QUfp",
        "outputId": "910dab4e-4727-4d24-8250-5d75db032933"
      },
      "execution_count": 7,
      "outputs": [
        {
          "output_type": "stream",
          "name": "stdout",
          "text": [
            "\n",
            "---------------------------------------------------\n",
            "|              ¡Bienvenido al Programa de          |\n",
            "|          Principios de Conteo de Codex!          |\n",
            "|                                                  |\n",
            "| Los principios de conteo son técnicas en         |\n",
            "| combinatoria para calcular el número de          |\n",
            "| posibles resultados en un experimento o          |\n",
            "| situación.                                       |\n",
            "|                                                  |\n",
            "| El principio fundamental del conteo establece    |\n",
            "| que si una acción se puede realizar de 'n'       |\n",
            "| maneras diferentes y otra de 'r', entonces hay   |\n",
            "| 'n * r' maneras diferentes de realizar ambas     |\n",
            "| acciones.                                        |\n",
            "|                                                  |\n",
            "| Existen dos enfoques principales para el         |\n",
            "| conteo: permutaciones y combinaciones. Las       |\n",
            "| permutaciones consideran el orden en el que se   |\n",
            "| eligen los elementos, mientras que las           |\n",
            "| combinaciones no consideran el orden.            |\n",
            "|                                                  |\n",
            "---------------------------------------------------\n",
            "\n",
            "Por favor, ingresa el valor de 'n': 4\n",
            "Por favor, ingresa el valor de 'r': 4\n",
            "¿El orden importa para tu ejercicio? (sí/no): si\n",
            "¿Todos los elementos son considerados para tu ejercicio? (sí/no): si\n",
            "Para tu ejercicio necesitas una permutacion\n",
            "Se repite (si/no): no\n",
            "\n",
            "El resultado de las permutaciones es: 24\n",
            "\n",
            "¿Deseas realizar otra operación? (sí/no): no\n",
            "\n",
            "Gracias por usar el Programa de Principios de Conteo de Codex. ¡Hasta luego!\n",
            "\n"
          ]
        }
      ]
    }
  ]
}