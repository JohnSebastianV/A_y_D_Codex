{
  "nbformat": 4,
  "nbformat_minor": 0,
  "metadata": {
    "colab": {
      "provenance": []
    },
    "kernelspec": {
      "name": "python3",
      "display_name": "Python 3"
    },
    "language_info": {
      "name": "python"
    }
  },
  "cells": [
    {
      "cell_type": "markdown",
      "source": [
        "Construya un algoritmo recursivo que convierta un número decimal en una cadena que\n",
        "represente el valor del número en octal (base 8)."
      ],
      "metadata": {
        "id": "ARpAy8nN36Sv"
      }
    },
    {
      "cell_type": "code",
      "execution_count": 26,
      "metadata": {
        "id": "nJ73uQKNxcZz",
        "colab": {
          "base_uri": "https://localhost:8080/"
        },
        "outputId": "5277884a-c45f-4f92-9069-28f343ac0949"
      },
      "outputs": [
        {
          "output_type": "stream",
          "name": "stdout",
          "text": [
            "El número decimal 95 en octal es: 0137\n"
          ]
        }
      ],
      "source": [
        "def decimal_octal(decimal):\n",
        "    if decimal == 0:\n",
        "        return '0'\n",
        "    else:\n",
        "        cociente = decimal // 8\n",
        "        residuo = decimal % 8\n",
        "        return decimal_octal(cociente) + str(residuo)\n",
        "\n",
        "numero_decimal = 95\n",
        "resultado_octal = decimal_octal(numero_decimal)\n",
        "print(f\"El número decimal {numero_decimal} en octal es: {resultado_octal}\")\n"
      ]
    },
    {
      "cell_type": "markdown",
      "source": [
        "¿Cuántos números de 4 cifras comienzan y terminan en 8?"
      ],
      "metadata": {
        "id": "wnKTzKoI3-jK"
      }
    },
    {
      "cell_type": "code",
      "source": [
        "# Número de posibilidades para el primer dígito (1-9)\n",
        "posibilidades1 = 1\n",
        "\n",
        "# Número de posibilidades para el último dígito (solo 8)\n",
        "posibilidades2 = 1\n",
        "\n",
        "#Combinaciones para el digito 2 y 3\n",
        "X = 99\n",
        "\n",
        "# Total de números de 4 cifras que comienzan y terminan en 8\n",
        "total_numeros = posibilidades1 * posibilidades2 * X\n",
        "\n",
        "print(\"El número de números de 4 cifras que comienzan y terminan en 8 es:\", total_numeros)\n",
        "\n"
      ],
      "metadata": {
        "colab": {
          "base_uri": "https://localhost:8080/"
        },
        "id": "VuvoQSgQ4JkT",
        "outputId": "9e4b2234-7940-488b-b072-08adde447be8"
      },
      "execution_count": 28,
      "outputs": [
        {
          "output_type": "stream",
          "name": "stdout",
          "text": [
            "El número de números de 4 cifras que comienzan y terminan en 8 es: 99\n"
          ]
        }
      ]
    }
  ]
}